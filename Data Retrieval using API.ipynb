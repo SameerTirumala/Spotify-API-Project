{
 "cells": [
  {
   "cell_type": "code",
   "execution_count": null,
   "metadata": {},
   "outputs": [],
   "source": [
    "#import libraries for spotify API, and pandas for data manipulation\n",
    "import spotipy\n",
    "from spotipy.oauth2 import SpotifyClientCredentials\n",
    "import pandas as pd"
   ]
  },
  {
   "cell_type": "code",
   "execution_count": null,
   "metadata": {},
   "outputs": [],
   "source": [
    "#Create a client credentials object to store your keys\n",
    "#NOTICE -- I did not include my actual keys here and you should keep yours confidential as well\n",
    "client_credentials_manager = SpotifyClientCredentials(client_id = '<your client id>', \n",
    "                                                    client_secret = '<your secret id>')\n",
    "\n",
    "#now we can instantiate a spotipy object that has access to the methods we care about\n",
    "sp = spotipy.Spotify(client_credentials_manager = client_credentials_manager)"
   ]
  },
  {
   "cell_type": "code",
   "execution_count": null,
   "metadata": {},
   "outputs": [],
   "source": [
    "#many methods rely on a uniform resource indicator (URI), a part of the URL link that serves as a \n",
    "#unique id for any playlist, song, album, artist, etc.\n",
    "my_playlist_link = 'https://open.spotify.com/playlist/1Vl23QvujvM5kROoqjF1fC?si=1c68f80304cf4bc0'\n",
    "\n",
    "#extract just the URI, the string between the last '/' and the '?'\n",
    "my_playlist_URI = my_playlist_link.split(\"/\")[-1].split(\"?\")[0]"
   ]
  },
  {
   "cell_type": "code",
   "execution_count": null,
   "metadata": {},
   "outputs": [],
   "source": [
    "tracks_in_my_playlist_info = sp.playlist_tracks(my_playlist_URI)"
   ]
  },
  {
   "cell_type": "code",
   "execution_count": null,
   "metadata": {},
   "outputs": [],
   "source": [
    "#create lists to store these fields for each of the playlist songs\n",
    "song_uri = []\n",
    "song_name = []\n",
    "artist = []\n",
    "artist_main_genre = []\n",
    "song_popularity = []\n",
    "\n",
    "\n",
    "#loop through the 'items' list, with the loop index 'entry' serving as an integer index \n",
    "#(so we can get to the deeper nested dictionaries)\n",
    "for entry in tracks_in_my_playlist_info[\"items\"]:\n",
    "\n",
    "    #go further into the track dictionary and extract the URI\n",
    "    #split the link string to get just the identifier part\n",
    "    song_uri.append(entry[\"track\"][\"uri\"].split(\":\")[-1])\n",
    "\n",
    "    #go further into the track dictionary to append the song name\n",
    "    song_name.append(entry[\"track\"][\"name\"])\n",
    "\n",
    "    #go into the track dictionary and select the list of artists\n",
    "    #from the list of artists (potentially more than one), select the first one and append their name\n",
    "    artist.append(entry[\"track\"][\"artists\"][0][\"name\"])\n",
    "\n",
    "    #Within this same artists list, we can pull the artist's unique URI\n",
    "    #From the URI, use the .artist method to get a list of the artist's genres-- proxy for song genres\n",
    "    #Again, select only the first in the list and append this main genre\n",
    "    try:\n",
    "        artist_main_genre.append(sp.artist(entry[\"track\"][\"artists\"][0][\"uri\"])[\"genres\"][0])\n",
    "    #However, some artist profiles have no genres, so add an exception for if 'genres' list returns empty\n",
    "    except IndexError:\n",
    "        artist_main_genre.append(\"unknown\")\n",
    "\n",
    "    #append the song's popularity\n",
    "    song_popularity.append(entry[\"track\"][\"popularity\"])"
   ]
  },
  {
   "cell_type": "code",
   "execution_count": null,
   "metadata": {},
   "outputs": [],
   "source": [
    "#create a dataframe with these lists as values and their names as column names\n",
    "basic_song_data = pd.DataFrame({'song_uri': song_uri,\n",
    "                                'song_name': song_name,\n",
    "                                'artist': artist,\n",
    "                                'genre' : artist_main_genre,\n",
    "                                'popularity': song_popularity})"
   ]
  },
  {
   "cell_type": "code",
   "execution_count": null,
   "metadata": {},
   "outputs": [],
   "source": [
    "#Feed our song URIs to the audio_features method to pull various musical metrics\n",
    "detailed_song_features = sp.audio_features(basic_song_data['song_uri'])\n",
    "\n",
    "#if you were to print detailed_song_features, you'd receive a list of dictionary entries\n",
    "#each dictionary represents one song, with metric names as keys and metric values as values\n",
    "\n",
    "#given that, we can convert the keys that each dictionary shares into columns \n",
    "#and the sets of values as rows of a pandas DataFrame using .from_dict()\n",
    "detailed_song_features = pd.DataFrame.from_dict(detailed_song_features)"
   ]
  },
  {
   "cell_type": "code",
   "execution_count": null,
   "metadata": {},
   "outputs": [],
   "source": [
    "#merge the basic and detailed song dataframes on their columns that contain URIs of the songs\n",
    "all_song_data_for_my_playlist = pd.merge(left = basic_song_data, \n",
    "                                        right = detailed_song_features, \n",
    "                                        left_on = \"song_uri\", \n",
    "                                        right_on= \"id\")\n",
    "\n",
    "#We probably do not need all of these columns. In the next step of this project, \n",
    "#I plan to use danceability and valence, and duration may be interesting to visualize\n",
    "#so we can select only those out of the musical metrics.\n",
    "simple_song_data_for_my_playlist = all_song_data_for_my_playlist[[\"song_name\", \n",
    "                                                                \"artist\", \n",
    "                                                                \"genre\", \n",
    "                                                                \"popularity\", \n",
    "                                                                \"danceability\", \n",
    "                                                                \"valence\", \n",
    "                                                                \"duration_ms\"]]"
   ]
  }
 ],
 "metadata": {
  "kernelspec": {
   "display_name": "Python 3.8.8 ('base')",
   "language": "python",
   "name": "python3"
  },
  "language_info": {
   "name": "python",
   "version": "3.8.8"
  },
  "orig_nbformat": 4,
  "vscode": {
   "interpreter": {
    "hash": "d6dc8139220606884165d55a408d490dee75a1d34e375e26e89db9e3d8b1b109"
   }
  }
 },
 "nbformat": 4,
 "nbformat_minor": 2
}
